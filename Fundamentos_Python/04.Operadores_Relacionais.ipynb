{
 "cells": [
  {
   "cell_type": "markdown",
   "id": "542b3ef3",
   "metadata": {},
   "source": [
    "# Operadores Relacionais "
   ]
  },
  {
   "cell_type": "code",
   "execution_count": 8,
   "id": "3b91b3a6",
   "metadata": {},
   "outputs": [
    {
     "data": {
      "text/plain": [
       "False"
      ]
     },
     "execution_count": 8,
     "metadata": {},
     "output_type": "execute_result"
    }
   ],
   "source": [
    "3 > 4\n",
    "4 >= 3\n",
    "1 < 2\n",
    "3 <= 1\n",
    "3 != 2 #Diferença, (AQUI ESTOU FALANDO 3 É DIFERENTE QUE 02)\n",
    "3 == 3.0 #Comparação\n",
    "2 == \"2\"\n"
   ]
  }
 ],
 "metadata": {
  "kernelspec": {
   "display_name": "base",
   "language": "python",
   "name": "python3"
  },
  "language_info": {
   "codemirror_mode": {
    "name": "ipython",
    "version": 3
   },
   "file_extension": ".py",
   "mimetype": "text/x-python",
   "name": "python",
   "nbconvert_exporter": "python",
   "pygments_lexer": "ipython3",
   "version": "3.13.5"
  }
 },
 "nbformat": 4,
 "nbformat_minor": 5
}
