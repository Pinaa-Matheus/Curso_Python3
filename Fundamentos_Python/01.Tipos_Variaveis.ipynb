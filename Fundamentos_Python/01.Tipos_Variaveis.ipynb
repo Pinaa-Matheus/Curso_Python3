{
 "cells": [
  {
   "cell_type": "markdown",
   "id": "35481ee9",
   "metadata": {},
   "source": [
    "TIPOS Básicos"
   ]
  },
  {
   "cell_type": "markdown",
   "id": "7d8431c1",
   "metadata": {},
   "source": [
    "Booleano"
   ]
  },
  {
   "cell_type": "code",
   "execution_count": 1,
   "id": "fc7d58b2",
   "metadata": {},
   "outputs": [
    {
     "name": "stdout",
     "output_type": "stream",
     "text": [
      "True\n",
      "False\n"
     ]
    }
   ],
   "source": [
    "print(True)\n",
    "print(False)"
   ]
  },
  {
   "cell_type": "markdown",
   "id": "405ce8b2",
   "metadata": {},
   "source": [
    "Float e Int"
   ]
  },
  {
   "cell_type": "code",
   "execution_count": null,
   "id": "940ca7eb",
   "metadata": {},
   "outputs": [],
   "source": [
    "print(1)   #Int ou Inteiro\n",
    "print(1.2) #Float"
   ]
  },
  {
   "cell_type": "markdown",
   "id": "35fa68ba",
   "metadata": {},
   "source": [
    "String"
   ]
  },
  {
   "cell_type": "code",
   "execution_count": 5,
   "id": "38875931",
   "metadata": {},
   "outputs": [
    {
     "name": "stdout",
     "output_type": "stream",
     "text": [
      "Hello World\n",
      "Hello World\n",
      "Voce é  muito  muito  muito Legal!\n"
     ]
    }
   ],
   "source": [
    "print(\"Hello World\")\n",
    "print('Hello World')\n",
    "print('Voce é ' + 3 * ' muito ' + \"Legal!\")"
   ]
  },
  {
   "cell_type": "markdown",
   "id": "b2fc0390",
   "metadata": {},
   "source": [
    "Lista"
   ]
  },
  {
   "cell_type": "code",
   "execution_count": 6,
   "id": "77f13f24",
   "metadata": {},
   "outputs": [
    {
     "name": "stdout",
     "output_type": "stream",
     "text": [
      "[1, 2, 3]\n"
     ]
    }
   ],
   "source": [
    "print([1, 2, 3])"
   ]
  },
  {
   "cell_type": "markdown",
   "id": "8cdbf867",
   "metadata": {},
   "source": [
    "Conjunto"
   ]
  },
  {
   "cell_type": "code",
   "execution_count": 8,
   "id": "5b5f8296",
   "metadata": {},
   "outputs": [
    {
     "name": "stdout",
     "output_type": "stream",
     "text": [
      "{'Nome': 'Pedro', 'idade': 22}\n"
     ]
    }
   ],
   "source": [
    "print({\"Nome\": \"Pedro\", \"idade\": 22})"
   ]
  },
  {
   "cell_type": "markdown",
   "id": "9a999009",
   "metadata": {},
   "source": [
    "Tuplas"
   ]
  },
  {
   "cell_type": "code",
   "execution_count": 9,
   "id": "fa1341fc",
   "metadata": {},
   "outputs": [
    {
     "name": "stdout",
     "output_type": "stream",
     "text": [
      "(1, 2, 3)\n"
     ]
    }
   ],
   "source": [
    "print ((1, 2, 3))"
   ]
  },
  {
   "cell_type": "markdown",
   "id": "308b3bf4",
   "metadata": {},
   "source": [
    "\n",
    "Listas = Mutáveis (podem ser alteradas)      | Sintaxe = Colchetes [ ]\n",
    "\n",
    "Tuplas = Imutáveis (não podem ser alteradas) | Sintaxe = Parênteses ( )\n",
    "\n",
    "Conjuntos = Não ordenadas(não duplicadas)    | Sintaxe = Chave {}"
   ]
  },
  {
   "cell_type": "markdown",
   "id": "51f8e72a",
   "metadata": {},
   "source": [
    "Nulo"
   ]
  },
  {
   "cell_type": "code",
   "execution_count": null,
   "id": "3a0448c1",
   "metadata": {},
   "outputs": [
    {
     "name": "stdout",
     "output_type": "stream",
     "text": [
      "None\n"
     ]
    }
   ],
   "source": [
    "print(None)\n",
    "#Ausencia de valor"
   ]
  },
  {
   "cell_type": "code",
   "execution_count": null,
   "id": "247d55c4",
   "metadata": {},
   "outputs": [],
   "source": []
  }
 ],
 "metadata": {
  "kernelspec": {
   "display_name": "base",
   "language": "python",
   "name": "python3"
  },
  "language_info": {
   "codemirror_mode": {
    "name": "ipython",
    "version": 3
   },
   "file_extension": ".py",
   "mimetype": "text/x-python",
   "name": "python",
   "nbconvert_exporter": "python",
   "pygments_lexer": "ipython3",
   "version": "3.13.5"
  }
 },
 "nbformat": 4,
 "nbformat_minor": 5
}
