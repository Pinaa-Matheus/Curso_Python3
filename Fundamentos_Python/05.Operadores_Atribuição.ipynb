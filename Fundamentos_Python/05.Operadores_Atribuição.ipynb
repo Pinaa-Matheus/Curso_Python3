{
 "cells": [
  {
   "cell_type": "markdown",
   "id": "53542d4e",
   "metadata": {},
   "source": [
    "# Operadores de Atribuição"
   ]
  },
  {
   "cell_type": "code",
   "execution_count": 6,
   "id": "4e2322ad",
   "metadata": {},
   "outputs": [
    {
     "name": "stdout",
     "output_type": "stream",
     "text": [
      "10\n",
      "3\n",
      "2\n"
     ]
    }
   ],
   "source": [
    "a  = 3 \n",
    "a  = a + 7 \n",
    "print(a)\n",
    "\n",
    "#Existem duas formas de acresentar valor de uma variavel \n",
    "\n",
    "#Primeira \n",
    "b = 2\n",
    "b = b + 1\n",
    "print(b)\n",
    "\n",
    "#Segunda\n",
    "c = 1 \n",
    "c += 1\n",
    "print(c)"
   ]
  },
  {
   "cell_type": "markdown",
   "id": "83eaac1b",
   "metadata": {},
   "source": [
    "Esse tipo de atribuições pode acontecer com a multiplicação, divisão, modulo(%), exponenciação, divisao por inteiro e todos os operadores aritméticos"
   ]
  }
 ],
 "metadata": {
  "kernelspec": {
   "display_name": "base",
   "language": "python",
   "name": "python3"
  },
  "language_info": {
   "codemirror_mode": {
    "name": "ipython",
    "version": 3
   },
   "file_extension": ".py",
   "mimetype": "text/x-python",
   "name": "python",
   "nbconvert_exporter": "python",
   "pygments_lexer": "ipython3",
   "version": "3.13.5"
  }
 },
 "nbformat": 4,
 "nbformat_minor": 5
}
