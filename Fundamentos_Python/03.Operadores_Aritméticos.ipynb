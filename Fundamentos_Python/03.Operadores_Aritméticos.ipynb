{
 "cells": [
  {
   "cell_type": "code",
   "execution_count": null,
   "id": "7b5046bb",
   "metadata": {},
   "outputs": [
    {
     "name": "stdout",
     "output_type": "stream",
     "text": [
      "5\n",
      "-3\n",
      "10.6\n",
      "3.1333333333333333\n",
      "3.0\n",
      "256\n",
      "1\n"
     ]
    }
   ],
   "source": [
    "print(2 + 3)     #Adição\n",
    "print(4 - 7)     #Subtração\n",
    "print(2 * 5.3)   #Multiplicação\n",
    "print(9.4 / 3)   #Divisão Normal, sempre da um valor float \n",
    "print(9.4 // 3)  #Divisão inteira, ou seja, descarta a parte decimal (arredonda para baixo).\n",
    "print(2 ** 8)    #Potencia\n",
    "print(10 % 3)    #Resta da divisao"
   ]
  },
  {
   "cell_type": "code",
   "execution_count": 7,
   "id": "c02802d4",
   "metadata": {},
   "outputs": [
    {
     "name": "stdout",
     "output_type": "stream",
     "text": [
      "24\n"
     ]
    }
   ],
   "source": [
    "a = 12\n",
    "b = a \n",
    "print(a + b)"
   ]
  }
 ],
 "metadata": {
  "kernelspec": {
   "display_name": "base",
   "language": "python",
   "name": "python3"
  },
  "language_info": {
   "codemirror_mode": {
    "name": "ipython",
    "version": 3
   },
   "file_extension": ".py",
   "mimetype": "text/x-python",
   "name": "python",
   "nbconvert_exporter": "python",
   "pygments_lexer": "ipython3",
   "version": "3.13.5"
  }
 },
 "nbformat": 4,
 "nbformat_minor": 5
}
