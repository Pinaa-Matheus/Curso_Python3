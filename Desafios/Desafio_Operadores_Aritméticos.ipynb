{
 "cells": [
  {
   "cell_type": "code",
   "execution_count": 13,
   "id": "49fab3dd",
   "metadata": {},
   "outputs": [
    {
     "name": "stdout",
     "output_type": "stream",
     "text": [
      "O total que as despesas estão afetando o seu salario é 71.18 %\n"
     ]
    }
   ],
   "source": [
    "#Quanto % que as despesas afetam o seu salario\n",
    "salario = 3450.45\n",
    "despesas = 2456.2\n",
    "\n",
    "total = (despesas * 100) / salario\n",
    "print(f\"O total que as despesas estão afetando o seu salario é {total:.2f} %\")"
   ]
  }
 ],
 "metadata": {
  "kernelspec": {
   "display_name": "base",
   "language": "python",
   "name": "python3"
  },
  "language_info": {
   "codemirror_mode": {
    "name": "ipython",
    "version": 3
   },
   "file_extension": ".py",
   "mimetype": "text/x-python",
   "name": "python",
   "nbconvert_exporter": "python",
   "pygments_lexer": "ipython3",
   "version": "3.13.5"
  }
 },
 "nbformat": 4,
 "nbformat_minor": 5
}
